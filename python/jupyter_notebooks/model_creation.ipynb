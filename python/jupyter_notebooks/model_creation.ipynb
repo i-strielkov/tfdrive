{
 "cells": [
  {
   "cell_type": "markdown",
   "metadata": {
    "colab_type": "text",
    "id": "avi2YH5YidwX"
   },
   "source": [
    "This file demonstrates how the predictive model was created. It shows only a straight way to the resulting model. Tests of less efficient approaches and hyper parameter tuning steps are omitted."
   ]
  },
  {
   "cell_type": "code",
   "execution_count": 1,
   "metadata": {
    "colab": {},
    "colab_type": "code",
    "id": "vsG5ZdMgidwb"
   },
   "outputs": [],
   "source": [
    "import numpy as np\n",
    "import pandas as pd\n",
    "import pyarrow\n",
    "from IPython.display import clear_output\n",
    "import matplotlib.pyplot as plt\n",
    "import seaborn as sns\n",
    "import pwcal_hsa\n",
    "from sklearn import metrics\n",
    "from sklearn.metrics import roc_curve, auc\n",
    "from sklearn.linear_model import LogisticRegression\n",
    "from sklearn.model_selection import train_test_split\n",
    "from sklearn.preprocessing import StandardScaler\n",
    "from sklearn.ensemble import RandomForestClassifier\n",
    "from joblib import dump"
   ]
  },
  {
   "cell_type": "markdown",
   "metadata": {
    "colab_type": "text",
    "id": "BKGL6bryidwi"
   },
   "source": [
    "\n",
    "The training data containing results of 945 gene knockout/knockdown experiments was downloaded from ChEA3 website and preprocessed. This data set was earlier used for a similar purpose in *Nucleic Acids Res. 2019 Jul 2;47(W1):W212-W224. doi: 10.1093/nar/gkz446*. "
   ]
  },
  {
   "cell_type": "code",
   "execution_count": 2,
   "metadata": {
    "colab": {},
    "colab_type": "code",
    "id": "0PcIt7Xcidwj",
    "outputId": "0cb643b1-aed5-4aab-81ec-2bb24d4ccfde"
   },
   "outputs": [
    {
     "data": {
      "text/html": [
       "<div>\n",
       "<style scoped>\n",
       "    .dataframe tbody tr th:only-of-type {\n",
       "        vertical-align: middle;\n",
       "    }\n",
       "\n",
       "    .dataframe tbody tr th {\n",
       "        vertical-align: top;\n",
       "    }\n",
       "\n",
       "    .dataframe thead th {\n",
       "        text-align: right;\n",
       "    }\n",
       "</style>\n",
       "<table border=\"1\" class=\"dataframe\">\n",
       "  <thead>\n",
       "    <tr style=\"text-align: right;\">\n",
       "      <th></th>\n",
       "      <th>species</th>\n",
       "      <th>case</th>\n",
       "      <th>degs</th>\n",
       "      <th>degs_entrez</th>\n",
       "    </tr>\n",
       "  </thead>\n",
       "  <tbody>\n",
       "    <tr>\n",
       "      <th>5</th>\n",
       "      <td>hsa</td>\n",
       "      <td>RARA</td>\n",
       "      <td>[WSB2, SP110, MX1, SLC12A2, KRT8, PPA1, MALL, ...</td>\n",
       "      <td>[55884, 3431, 4599, 6558, 3856, 5464, 7851, 63...</td>\n",
       "    </tr>\n",
       "    <tr>\n",
       "      <th>7</th>\n",
       "      <td>hsa</td>\n",
       "      <td>MYB</td>\n",
       "      <td>[CDK19, WSB1, MED4, ZNF281, ZFYVE21, TM4SF1, C...</td>\n",
       "      <td>[23097, 26118, 29079, 23528, 79038, 4071, 5574...</td>\n",
       "    </tr>\n",
       "    <tr>\n",
       "      <th>9</th>\n",
       "      <td>hsa</td>\n",
       "      <td>ZNF207</td>\n",
       "      <td>[ZNF165, ANKEF1, GOLPH3L, RFX2, ZFYVE26, ST5, ...</td>\n",
       "      <td>[7718, 63926, 55204, 101928900, 23503, 6764, 6...</td>\n",
       "    </tr>\n",
       "    <tr>\n",
       "      <th>10</th>\n",
       "      <td>hsa</td>\n",
       "      <td>SOX2</td>\n",
       "      <td>[NEMP1, STARD4, ESCO2, TAS2R10, SCAF11, DDIAS,...</td>\n",
       "      <td>[23306, 134429, 157570, 50839, 9169, 220042, 2...</td>\n",
       "    </tr>\n",
       "    <tr>\n",
       "      <th>16</th>\n",
       "      <td>hsa</td>\n",
       "      <td>NR2C2</td>\n",
       "      <td>[PRELID1, RPL22, RPL23, MFSD10, HIST1H4C, UQCR...</td>\n",
       "      <td>[27166, 6146, 619505, 10227, 554313, 7384, 615...</td>\n",
       "    </tr>\n",
       "    <tr>\n",
       "      <th>...</th>\n",
       "      <td>...</td>\n",
       "      <td>...</td>\n",
       "      <td>...</td>\n",
       "      <td>...</td>\n",
       "    </tr>\n",
       "    <tr>\n",
       "      <th>941</th>\n",
       "      <td>hsa</td>\n",
       "      <td>ZNF581</td>\n",
       "      <td>[EEF1A1, PABPC1, FTH1, ACTB, NQO1, PEG10, VIM,...</td>\n",
       "      <td>[1915, 26986, 2495, 60, 1728, 23089, 7431, 251...</td>\n",
       "    </tr>\n",
       "    <tr>\n",
       "      <th>942</th>\n",
       "      <td>hsa</td>\n",
       "      <td>ZNF589</td>\n",
       "      <td>[EEF1A1, PABPC1, ACTB, PEG10, CALR, COL5A1, YW...</td>\n",
       "      <td>[1915, 26986, 60, 23089, 811, 1289, 7534, 1005...</td>\n",
       "    </tr>\n",
       "    <tr>\n",
       "      <th>943</th>\n",
       "      <td>hsa</td>\n",
       "      <td>ZNF589</td>\n",
       "      <td>[STAT1, IFI6, OAS3, FTH1, ACTB, LGALS3BP, ISG1...</td>\n",
       "      <td>[6772, 2537, 4940, 2495, 60, 3959, 9636, 567, ...</td>\n",
       "    </tr>\n",
       "    <tr>\n",
       "      <th>944</th>\n",
       "      <td>hsa</td>\n",
       "      <td>ZNF589</td>\n",
       "      <td>[ACTB, SERPINE1, HSPA8, GAPDH, HMGA1, FTL, CAN...</td>\n",
       "      <td>[60, 5054, 85390, 2597, 3159, 2512, 821, 890, ...</td>\n",
       "    </tr>\n",
       "    <tr>\n",
       "      <th>945</th>\n",
       "      <td>hsa</td>\n",
       "      <td>ZNF589</td>\n",
       "      <td>[HSP90AA1, ACTB, EIF4G1, EEF1G, UBC, EEF2, EEF...</td>\n",
       "      <td>[3320, 60, 1981, 100500804, 7316, 1938, 1915, ...</td>\n",
       "    </tr>\n",
       "  </tbody>\n",
       "</table>\n",
       "<p>443 rows × 4 columns</p>\n",
       "</div>"
      ],
      "text/plain": [
       "    species    case                                               degs  \\\n",
       "5       hsa    RARA  [WSB2, SP110, MX1, SLC12A2, KRT8, PPA1, MALL, ...   \n",
       "7       hsa     MYB  [CDK19, WSB1, MED4, ZNF281, ZFYVE21, TM4SF1, C...   \n",
       "9       hsa  ZNF207  [ZNF165, ANKEF1, GOLPH3L, RFX2, ZFYVE26, ST5, ...   \n",
       "10      hsa    SOX2  [NEMP1, STARD4, ESCO2, TAS2R10, SCAF11, DDIAS,...   \n",
       "16      hsa   NR2C2  [PRELID1, RPL22, RPL23, MFSD10, HIST1H4C, UQCR...   \n",
       "..      ...     ...                                                ...   \n",
       "941     hsa  ZNF581  [EEF1A1, PABPC1, FTH1, ACTB, NQO1, PEG10, VIM,...   \n",
       "942     hsa  ZNF589  [EEF1A1, PABPC1, ACTB, PEG10, CALR, COL5A1, YW...   \n",
       "943     hsa  ZNF589  [STAT1, IFI6, OAS3, FTH1, ACTB, LGALS3BP, ISG1...   \n",
       "944     hsa  ZNF589  [ACTB, SERPINE1, HSPA8, GAPDH, HMGA1, FTL, CAN...   \n",
       "945     hsa  ZNF589  [HSP90AA1, ACTB, EIF4G1, EEF1G, UBC, EEF2, EEF...   \n",
       "\n",
       "                                           degs_entrez  \n",
       "5    [55884, 3431, 4599, 6558, 3856, 5464, 7851, 63...  \n",
       "7    [23097, 26118, 29079, 23528, 79038, 4071, 5574...  \n",
       "9    [7718, 63926, 55204, 101928900, 23503, 6764, 6...  \n",
       "10   [23306, 134429, 157570, 50839, 9169, 220042, 2...  \n",
       "16   [27166, 6146, 619505, 10227, 554313, 7384, 615...  \n",
       "..                                                 ...  \n",
       "941  [1915, 26986, 2495, 60, 1728, 23089, 7431, 251...  \n",
       "942  [1915, 26986, 60, 23089, 811, 1289, 7534, 1005...  \n",
       "943  [6772, 2537, 4940, 2495, 60, 3959, 9636, 567, ...  \n",
       "944  [60, 5054, 85390, 2597, 3159, 2512, 821, 890, ...  \n",
       "945  [3320, 60, 1981, 100500804, 7316, 1938, 1915, ...  \n",
       "\n",
       "[443 rows x 4 columns]"
      ]
     },
     "execution_count": 2,
     "metadata": {},
     "output_type": "execute_result"
    }
   ],
   "source": [
    "cases_df = pd.read_parquet('data/1000_perturbations.parquet')\n",
    "# Keep only human-related entries\n",
    "cases_df = cases_df[cases_df['species']=='hsa']\n",
    "cases_df"
   ]
  },
  {
   "cell_type": "markdown",
   "metadata": {
    "colab_type": "text",
    "id": "ptsgTC_Bidwo"
   },
   "source": [
    "\n",
    "The imported function below performs parallelized search for the KEGG pathway/GO term overlap for each case for each TF in the library. In addition, it calculates corresponding scores, which depends on a number of genes related to the overlapping pathways/terms and the 'relative pathways/term importance'."
   ]
  },
  {
   "cell_type": "code",
   "execution_count": 3,
   "metadata": {
    "colab": {},
    "colab_type": "code",
    "id": "JYAGCgxHidwq",
    "outputId": "81097184-a149-4ea4-d8f8-35444de59ecd"
   },
   "outputs": [
    {
     "name": "stdout",
     "output_type": "stream",
     "text": [
      " 7 processes started...\n",
      "Finished\n"
     ]
    }
   ],
   "source": [
    "# Argument 'exclude_deg_tf' defines whether pathways/GO terms related to TFs found in the list\n",
    "# of differentially expressed genes are excluded from the list of pathways/terms in order to avoid\n",
    "# data leakage.\n",
    "full_data_df = pwcal_hsa.pwcal(cases_df, exclude_deg_tf = True, n_jobs = 7)"
   ]
  },
  {
   "cell_type": "code",
   "execution_count": 4,
   "metadata": {
    "colab": {},
    "colab_type": "code",
    "id": "jKpqVY81idwu",
    "outputId": "fe6836a0-ae86-4504-f12f-40f6c793f2dd"
   },
   "outputs": [
    {
     "data": {
      "text/html": [
       "<div>\n",
       "<style scoped>\n",
       "    .dataframe tbody tr th:only-of-type {\n",
       "        vertical-align: middle;\n",
       "    }\n",
       "\n",
       "    .dataframe tbody tr th {\n",
       "        vertical-align: top;\n",
       "    }\n",
       "\n",
       "    .dataframe thead th {\n",
       "        text-align: right;\n",
       "    }\n",
       "</style>\n",
       "<table border=\"1\" class=\"dataframe\">\n",
       "  <thead>\n",
       "    <tr style=\"text-align: right;\">\n",
       "      <th></th>\n",
       "      <th>case_id</th>\n",
       "      <th>case</th>\n",
       "      <th>TF</th>\n",
       "      <th>TF_ids</th>\n",
       "      <th>p_share</th>\n",
       "      <th>all_p</th>\n",
       "      <th>p_score</th>\n",
       "      <th>go_share</th>\n",
       "      <th>all_go</th>\n",
       "      <th>go_score</th>\n",
       "    </tr>\n",
       "  </thead>\n",
       "  <tbody>\n",
       "    <tr>\n",
       "      <th>0</th>\n",
       "      <td>5</td>\n",
       "      <td>RARA</td>\n",
       "      <td>AHR</td>\n",
       "      <td>196</td>\n",
       "      <td>0.75</td>\n",
       "      <td>4</td>\n",
       "      <td>27.747265</td>\n",
       "      <td>0.700000</td>\n",
       "      <td>20</td>\n",
       "      <td>1869.297677</td>\n",
       "    </tr>\n",
       "    <tr>\n",
       "      <th>1</th>\n",
       "      <td>7</td>\n",
       "      <td>MYB</td>\n",
       "      <td>AHR</td>\n",
       "      <td>196</td>\n",
       "      <td>0.50</td>\n",
       "      <td>4</td>\n",
       "      <td>14.880473</td>\n",
       "      <td>0.700000</td>\n",
       "      <td>20</td>\n",
       "      <td>2213.014341</td>\n",
       "    </tr>\n",
       "    <tr>\n",
       "      <th>2</th>\n",
       "      <td>9</td>\n",
       "      <td>ZNF207</td>\n",
       "      <td>AHR</td>\n",
       "      <td>196</td>\n",
       "      <td>0.50</td>\n",
       "      <td>4</td>\n",
       "      <td>24.537224</td>\n",
       "      <td>0.800000</td>\n",
       "      <td>20</td>\n",
       "      <td>2745.141881</td>\n",
       "    </tr>\n",
       "    <tr>\n",
       "      <th>3</th>\n",
       "      <td>10</td>\n",
       "      <td>SOX2</td>\n",
       "      <td>AHR</td>\n",
       "      <td>196</td>\n",
       "      <td>0.75</td>\n",
       "      <td>4</td>\n",
       "      <td>10.472983</td>\n",
       "      <td>0.650000</td>\n",
       "      <td>20</td>\n",
       "      <td>1964.534767</td>\n",
       "    </tr>\n",
       "    <tr>\n",
       "      <th>4</th>\n",
       "      <td>16</td>\n",
       "      <td>NR2C2</td>\n",
       "      <td>AHR</td>\n",
       "      <td>196</td>\n",
       "      <td>0.50</td>\n",
       "      <td>4</td>\n",
       "      <td>13.686829</td>\n",
       "      <td>0.700000</td>\n",
       "      <td>20</td>\n",
       "      <td>1679.343282</td>\n",
       "    </tr>\n",
       "    <tr>\n",
       "      <th>...</th>\n",
       "      <td>...</td>\n",
       "      <td>...</td>\n",
       "      <td>...</td>\n",
       "      <td>...</td>\n",
       "      <td>...</td>\n",
       "      <td>...</td>\n",
       "      <td>...</td>\n",
       "      <td>...</td>\n",
       "      <td>...</td>\n",
       "      <td>...</td>\n",
       "    </tr>\n",
       "    <tr>\n",
       "      <th>77077</th>\n",
       "      <td>941</td>\n",
       "      <td>ZNF581</td>\n",
       "      <td>BRCA1</td>\n",
       "      <td>672</td>\n",
       "      <td>0.60</td>\n",
       "      <td>10</td>\n",
       "      <td>523.653788</td>\n",
       "      <td>0.666667</td>\n",
       "      <td>57</td>\n",
       "      <td>2684.145394</td>\n",
       "    </tr>\n",
       "    <tr>\n",
       "      <th>77078</th>\n",
       "      <td>942</td>\n",
       "      <td>ZNF589</td>\n",
       "      <td>BRCA1</td>\n",
       "      <td>672</td>\n",
       "      <td>0.50</td>\n",
       "      <td>10</td>\n",
       "      <td>646.536358</td>\n",
       "      <td>0.666667</td>\n",
       "      <td>57</td>\n",
       "      <td>2648.593219</td>\n",
       "    </tr>\n",
       "    <tr>\n",
       "      <th>77079</th>\n",
       "      <td>943</td>\n",
       "      <td>ZNF589</td>\n",
       "      <td>BRCA1</td>\n",
       "      <td>672</td>\n",
       "      <td>0.50</td>\n",
       "      <td>10</td>\n",
       "      <td>224.737116</td>\n",
       "      <td>0.684211</td>\n",
       "      <td>57</td>\n",
       "      <td>2494.572920</td>\n",
       "    </tr>\n",
       "    <tr>\n",
       "      <th>77080</th>\n",
       "      <td>944</td>\n",
       "      <td>ZNF589</td>\n",
       "      <td>BRCA1</td>\n",
       "      <td>672</td>\n",
       "      <td>0.70</td>\n",
       "      <td>10</td>\n",
       "      <td>623.113166</td>\n",
       "      <td>0.649123</td>\n",
       "      <td>57</td>\n",
       "      <td>3339.127559</td>\n",
       "    </tr>\n",
       "    <tr>\n",
       "      <th>77081</th>\n",
       "      <td>945</td>\n",
       "      <td>ZNF589</td>\n",
       "      <td>BRCA1</td>\n",
       "      <td>672</td>\n",
       "      <td>0.60</td>\n",
       "      <td>10</td>\n",
       "      <td>198.341633</td>\n",
       "      <td>0.719298</td>\n",
       "      <td>57</td>\n",
       "      <td>2776.761202</td>\n",
       "    </tr>\n",
       "  </tbody>\n",
       "</table>\n",
       "<p>77082 rows × 10 columns</p>\n",
       "</div>"
      ],
      "text/plain": [
       "      case_id    case     TF TF_ids  p_share all_p     p_score  go_share  \\\n",
       "0           5    RARA    AHR    196     0.75     4   27.747265  0.700000   \n",
       "1           7     MYB    AHR    196     0.50     4   14.880473  0.700000   \n",
       "2           9  ZNF207    AHR    196     0.50     4   24.537224  0.800000   \n",
       "3          10    SOX2    AHR    196     0.75     4   10.472983  0.650000   \n",
       "4          16   NR2C2    AHR    196     0.50     4   13.686829  0.700000   \n",
       "...       ...     ...    ...    ...      ...   ...         ...       ...   \n",
       "77077     941  ZNF581  BRCA1    672     0.60    10  523.653788  0.666667   \n",
       "77078     942  ZNF589  BRCA1    672     0.50    10  646.536358  0.666667   \n",
       "77079     943  ZNF589  BRCA1    672     0.50    10  224.737116  0.684211   \n",
       "77080     944  ZNF589  BRCA1    672     0.70    10  623.113166  0.649123   \n",
       "77081     945  ZNF589  BRCA1    672     0.60    10  198.341633  0.719298   \n",
       "\n",
       "      all_go     go_score  \n",
       "0         20  1869.297677  \n",
       "1         20  2213.014341  \n",
       "2         20  2745.141881  \n",
       "3         20  1964.534767  \n",
       "4         20  1679.343282  \n",
       "...      ...          ...  \n",
       "77077     57  2684.145394  \n",
       "77078     57  2648.593219  \n",
       "77079     57  2494.572920  \n",
       "77080     57  3339.127559  \n",
       "77081     57  2776.761202  \n",
       "\n",
       "[77082 rows x 10 columns]"
      ]
     },
     "execution_count": 4,
     "metadata": {},
     "output_type": "execute_result"
    }
   ],
   "source": [
    "full_data_df"
   ]
  },
  {
   "cell_type": "code",
   "execution_count": 5,
   "metadata": {
    "colab": {},
    "colab_type": "code",
    "id": "_iTMJ9N8idwx"
   },
   "outputs": [],
   "source": [
    "#Drop TFs which have less than 3 pathways associated with them\n",
    "full_data_df = full_data_df[full_data_df['all_p']>2].copy(deep=True)\n",
    "full_data_df = full_data_df[full_data_df['all_go']>2].copy(deep=True)"
   ]
  },
  {
   "cell_type": "markdown",
   "metadata": {
    "colab_type": "text",
    "id": "rgNV6NU4idw0"
   },
   "source": [
    "\n",
    "Next, calculation of relative changes in frequencies of known interactions between TFs from different families and genes in each case compared to all other genes was performed. Two databases were used in the final version: *TRANSFAC Curated Transcription Factor Targets* and *ChEA Transcription Factor Targets*. Data form the *JASPAR Predicted Transcription Factor Targets* database, for example, had very poor predictive value."
   ]
  },
  {
   "cell_type": "code",
   "execution_count": 6,
   "metadata": {
    "colab": {},
    "colab_type": "code",
    "id": "LNBXwZUEidw1",
    "outputId": "b7aeeb3f-3c40-4d04-b77a-7471a2bdfbeb"
   },
   "outputs": [
    {
     "data": {
      "text/html": [
       "<div>\n",
       "<style scoped>\n",
       "    .dataframe tbody tr th:only-of-type {\n",
       "        vertical-align: middle;\n",
       "    }\n",
       "\n",
       "    .dataframe tbody tr th {\n",
       "        vertical-align: top;\n",
       "    }\n",
       "\n",
       "    .dataframe thead th {\n",
       "        text-align: right;\n",
       "    }\n",
       "</style>\n",
       "<table border=\"1\" class=\"dataframe\">\n",
       "  <thead>\n",
       "    <tr style=\"text-align: right;\">\n",
       "      <th></th>\n",
       "      <th>ids</th>\n",
       "    </tr>\n",
       "  </thead>\n",
       "  <tbody>\n",
       "    <tr>\n",
       "      <th>PAS domain factors{1.2.5}</th>\n",
       "      <td>[3091, 9915, 9575, 406, 2034, 405, 196]</td>\n",
       "    </tr>\n",
       "    <tr>\n",
       "      <th>AIRE{5.3.1}</th>\n",
       "      <td>[326]</td>\n",
       "    </tr>\n",
       "    <tr>\n",
       "      <th>Paired-related HD factors{3.1.3}</th>\n",
       "      <td>[84839, 5309, 80712, 30062, 5308, 5015, 338917...</td>\n",
       "    </tr>\n",
       "    <tr>\n",
       "      <th>Steroid hormone receptors (NR3){2.1.1}</th>\n",
       "      <td>[367, 2101, 2908, 2099, 2104, 5241, 4306, 2100...</td>\n",
       "    </tr>\n",
       "    <tr>\n",
       "      <th>AP-2{1.3.1}</th>\n",
       "      <td>[83741, 7022, 7021, 7020]</td>\n",
       "    </tr>\n",
       "    <tr>\n",
       "      <th>...</th>\n",
       "      <td>...</td>\n",
       "    </tr>\n",
       "    <tr>\n",
       "      <th>TEF-1-related factors{3.6.1}</th>\n",
       "      <td>[7003, 7004, 7005, 8463]</td>\n",
       "    </tr>\n",
       "    <tr>\n",
       "      <th>CP2-related factors{6.7.2}</th>\n",
       "      <td>[7024, 7342]</td>\n",
       "    </tr>\n",
       "    <tr>\n",
       "      <th>THAP-related factors{2.9.1}</th>\n",
       "      <td>[57215, 55145]</td>\n",
       "    </tr>\n",
       "    <tr>\n",
       "      <th>XBP-1-related factors{1.1.5}</th>\n",
       "      <td>[7494]</td>\n",
       "    </tr>\n",
       "    <tr>\n",
       "      <th>BED zinc finger factors{2.3.5}</th>\n",
       "      <td>[9189]</td>\n",
       "    </tr>\n",
       "  </tbody>\n",
       "</table>\n",
       "<p>81 rows × 1 columns</p>\n",
       "</div>"
      ],
      "text/plain": [
       "                                                                                      ids\n",
       "PAS domain factors{1.2.5}                         [3091, 9915, 9575, 406, 2034, 405, 196]\n",
       "AIRE{5.3.1}                                                                         [326]\n",
       "Paired-related HD factors{3.1.3}        [84839, 5309, 80712, 30062, 5308, 5015, 338917...\n",
       "Steroid hormone receptors (NR3){2.1.1}  [367, 2101, 2908, 2099, 2104, 5241, 4306, 2100...\n",
       "AP-2{1.3.1}                                                     [83741, 7022, 7021, 7020]\n",
       "...                                                                                   ...\n",
       "TEF-1-related factors{3.6.1}                                     [7003, 7004, 7005, 8463]\n",
       "CP2-related factors{6.7.2}                                                   [7024, 7342]\n",
       "THAP-related factors{2.9.1}                                                [57215, 55145]\n",
       "XBP-1-related factors{1.1.5}                                                       [7494]\n",
       "BED zinc finger factors{2.3.5}                                                     [9189]\n",
       "\n",
       "[81 rows x 1 columns]"
      ]
     },
     "execution_count": 6,
     "metadata": {},
     "output_type": "execute_result"
    }
   ],
   "source": [
    "# Load TF classification table\n",
    "tf_families_df = pd.read_parquet('data/tf_families_hsa.parquet')\n",
    "tf_families_df"
   ]
  },
  {
   "cell_type": "code",
   "execution_count": 7,
   "metadata": {
    "colab": {},
    "colab_type": "code",
    "id": "qvL-tGKmidw4"
   },
   "outputs": [],
   "source": [
    "# Tables of TF-gene interactions\n",
    "transfac_df = pd.read_parquet('data/tf_matrix_transfac.parquet')\n",
    "chea_df = pd.read_parquet('data/tf_matrix_chea.parquet')"
   ]
  },
  {
   "cell_type": "code",
   "execution_count": 8,
   "metadata": {
    "colab": {},
    "colab_type": "code",
    "id": "yE20TFhCidw8"
   },
   "outputs": [],
   "source": [
    "# Calculate relative interaction frequencies for each family for each group\n",
    "tf_group_scores_df = pd.DataFrame(columns=['case', 'family', 'transfac','chea'])\n",
    "for c in cases_df.index:\n",
    "    case_ids = [str(g) for g in cases_df.at[c, 'degs_entrez']]\n",
    "    for f in tf_families_df.index:\n",
    "        tf_ids = tf_families_df.at[f, 'ids']\n",
    "        # transfac\n",
    "        t_value = 0.0\n",
    "        t_tf_ids = [t for t in tf_ids if t in transfac_df.columns]\n",
    "        t_g_ids = [h for h in case_ids if h in transfac_df.index]    \n",
    "        if (len(t_tf_ids) > 0) & (len(t_g_ids) > 0):\n",
    "            t_value = (transfac_df.loc[t_g_ids, t_tf_ids].sum().sum() / len(t_g_ids)) / \\\n",
    "                (transfac_df[t_tf_ids].sum().sum() / len(transfac_df))\n",
    "        # chea\n",
    "        c_value = 0.0\n",
    "        c_tf_ids = [c for c in tf_ids if c in chea_df.columns]\n",
    "        c_g_ids = [h for h in case_ids if h in chea_df.index]    \n",
    "        if (len(c_tf_ids) > 0) & (len(c_g_ids) > 0):\n",
    "            c_value = (chea_df.loc[c_g_ids, c_tf_ids].sum().sum() / len(c_g_ids)) / \\\n",
    "                (chea_df[c_tf_ids].sum().sum() / len(chea_df))\n",
    "        tf_group_scores_df.loc[len(tf_group_scores_df)] = [c, f, t_value, c_value]"
   ]
  },
  {
   "cell_type": "code",
   "execution_count": 9,
   "metadata": {
    "colab": {},
    "colab_type": "code",
    "id": "UhZ2jXCgidxA",
    "outputId": "4da83c73-fd77-4776-8548-d62ec3d06a3c"
   },
   "outputs": [
    {
     "data": {
      "text/html": [
       "<div>\n",
       "<style scoped>\n",
       "    .dataframe tbody tr th:only-of-type {\n",
       "        vertical-align: middle;\n",
       "    }\n",
       "\n",
       "    .dataframe tbody tr th {\n",
       "        vertical-align: top;\n",
       "    }\n",
       "\n",
       "    .dataframe thead th {\n",
       "        text-align: right;\n",
       "    }\n",
       "</style>\n",
       "<table border=\"1\" class=\"dataframe\">\n",
       "  <thead>\n",
       "    <tr style=\"text-align: right;\">\n",
       "      <th></th>\n",
       "      <th>case</th>\n",
       "      <th>family</th>\n",
       "      <th>transfac</th>\n",
       "      <th>chea</th>\n",
       "    </tr>\n",
       "  </thead>\n",
       "  <tbody>\n",
       "    <tr>\n",
       "      <th>0</th>\n",
       "      <td>5</td>\n",
       "      <td>PAS domain factors{1.2.5}</td>\n",
       "      <td>1.504682</td>\n",
       "      <td>1.940423</td>\n",
       "    </tr>\n",
       "    <tr>\n",
       "      <th>1</th>\n",
       "      <td>5</td>\n",
       "      <td>AIRE{5.3.1}</td>\n",
       "      <td>0.000000</td>\n",
       "      <td>0.000000</td>\n",
       "    </tr>\n",
       "    <tr>\n",
       "      <th>2</th>\n",
       "      <td>5</td>\n",
       "      <td>Paired-related HD factors{3.1.3}</td>\n",
       "      <td>0.733199</td>\n",
       "      <td>1.645644</td>\n",
       "    </tr>\n",
       "    <tr>\n",
       "      <th>3</th>\n",
       "      <td>5</td>\n",
       "      <td>Steroid hormone receptors (NR3){2.1.1}</td>\n",
       "      <td>0.942136</td>\n",
       "      <td>1.295205</td>\n",
       "    </tr>\n",
       "    <tr>\n",
       "      <th>4</th>\n",
       "      <td>5</td>\n",
       "      <td>AP-2{1.3.1}</td>\n",
       "      <td>1.029968</td>\n",
       "      <td>1.445382</td>\n",
       "    </tr>\n",
       "  </tbody>\n",
       "</table>\n",
       "</div>"
      ],
      "text/plain": [
       "  case                                  family  transfac      chea\n",
       "0    5               PAS domain factors{1.2.5}  1.504682  1.940423\n",
       "1    5                             AIRE{5.3.1}  0.000000  0.000000\n",
       "2    5        Paired-related HD factors{3.1.3}  0.733199  1.645644\n",
       "3    5  Steroid hormone receptors (NR3){2.1.1}  0.942136  1.295205\n",
       "4    5                             AP-2{1.3.1}  1.029968  1.445382"
      ]
     },
     "execution_count": 9,
     "metadata": {},
     "output_type": "execute_result"
    }
   ],
   "source": [
    "tf_group_scores_df.head()"
   ]
  },
  {
   "cell_type": "code",
   "execution_count": 10,
   "metadata": {
    "colab": {},
    "colab_type": "code",
    "id": "fRgx5iyridxE"
   },
   "outputs": [],
   "source": [
    "# Create TF to TF family association table\n",
    "tf_family_pairs = pd.DataFrame(columns=['family'])\n",
    "for i in tf_families_df.index:\n",
    "    for tf in tf_families_df.at[i, 'ids']:\n",
    "        tf_family_pairs.loc[tf] = [i]"
   ]
  },
  {
   "cell_type": "code",
   "execution_count": 11,
   "metadata": {
    "colab": {},
    "colab_type": "code",
    "id": "AOFxNc9midxH",
    "outputId": "beded728-fc6e-4543-cb44-60f7962e6ab3"
   },
   "outputs": [
    {
     "name": "stdout",
     "output_type": "stream",
     "text": [
      "77081\n",
      "Finished\n"
     ]
    }
   ],
   "source": [
    "# Assign values to full_data_df\n",
    "full_data_df['transfac'] = 0.0\n",
    "full_data_df['chea'] = 0.0\n",
    "for i in full_data_df.index:\n",
    "    clear_output()\n",
    "    print(i)\n",
    "    tf_id = str(full_data_df.at[i, 'TF_ids'])\n",
    "    case_id = full_data_df.at[i, 'case_id']\n",
    "    if tf_id in tf_family_pairs.index:\n",
    "        family = tf_family_pairs.at[tf_id, 'family']\n",
    "        full_data_df.at[i, 'transfac'] = tf_group_scores_df[(tf_group_scores_df['case']==case_id) & \\\n",
    "                                            (tf_group_scores_df['family']==family)]['transfac'].values[0]\n",
    "        full_data_df.at[i, 'chea'] = tf_group_scores_df[(tf_group_scores_df['case']==case_id) & \\\n",
    "                                        (tf_group_scores_df['family']==family)]['chea'].values[0]\n",
    "    # If TF is not in the TF families, then calculate individual values\n",
    "    else:\n",
    "        case_ids = cases_df.at[full_data_df.at[i, 'case_id'], 'degs_entrez']\n",
    "        case_ids = [str(g) for g in case_ids]\n",
    "\n",
    "        t_value = 0.0\n",
    "        t_g_ids = [h for h in case_ids if h in transfac_df.index]    \n",
    "        if (tf_id in transfac_df.columns) & (len(t_g_ids) > 0):\n",
    "            t_value = (transfac_df.loc[t_g_ids, tf_id].sum().sum() / len(t_g_ids)) / \\\n",
    "                (transfac_df[tf_id].sum().sum() / len(transfac_df))\n",
    "            full_data_df.at[i, 'transfac'] = t_value \n",
    "\n",
    "        c_value = 0.0\n",
    "        c_g_ids = [h for h in case_ids if h in chea_df.index]    \n",
    "        if (tf_id in chea_df.columns) & (len(c_g_ids) > 0):\n",
    "            c_value = (chea_df.loc[c_g_ids, tf_id].sum().sum() / len(c_g_ids)) / \\\n",
    "                (chea_df[tf_id].sum().sum() / len(chea_df))\n",
    "            full_data_df.at[i, 'chea'] = c_value \n",
    "print('Finished')"
   ]
  },
  {
   "cell_type": "code",
   "execution_count": 12,
   "metadata": {
    "colab": {},
    "colab_type": "code",
    "id": "dXusA5AUidxM"
   },
   "outputs": [],
   "source": [
    "# Fill zeroes if only one ('chea' or 'transfac') value is available\n",
    "for i in full_data_df.index:\n",
    "    if full_data_df.at[i, 'chea'] == 0.0:\n",
    "        full_data_df.at[i, 'chea'] = full_data_df.at[i, 'transfac']\n",
    "    if full_data_df.at[i, 'transfac'] == 0.0:\n",
    "        full_data_df.at[i, 'transfac'] = full_data_df.at[i, 'chea']\n",
    "        \n",
    "# Exclude entries without meaningful values\n",
    "full_data_df = full_data_df[(full_data_df['transfac']>0) | \\\n",
    "            (full_data_df['chea']>0)].copy(deep=True)"
   ]
  },
  {
   "cell_type": "markdown",
   "metadata": {
    "colab_type": "text",
    "id": "qD6L8LP1idxP"
   },
   "source": [
    "\n",
    "Next cell adds a column with the class labels. The positive class is represented by cases were TF was among differentially expressed genes. Although this is in fact only a part of 'real' positive cases, the accuracy of a prediction should nevertheless correlate with the accuracy in a real life situation."
   ]
  },
  {
   "cell_type": "code",
   "execution_count": 13,
   "metadata": {
    "colab": {},
    "colab_type": "code",
    "id": "_qhXLKaWidxQ"
   },
   "outputs": [],
   "source": [
    "# Add column with labels (0 and 1)\n",
    "full_data_df['label']=0\n",
    "for i in full_data_df.index:\n",
    "    tf_id = full_data_df.at[i, 'TF_ids']\n",
    "    case_id = full_data_df.at[i, 'case_id']\n",
    "    case_ids = cases_df.at[case_id, 'degs_entrez']\n",
    "    if tf_id in case_ids:\n",
    "        full_data_df.at[i, 'label'] = 1"
   ]
  },
  {
   "cell_type": "code",
   "execution_count": 14,
   "metadata": {
    "colab": {},
    "colab_type": "code",
    "id": "l1fOeozYidxS",
    "outputId": "acd882cb-551a-4eeb-c702-9a394dc8fe97"
   },
   "outputs": [
    {
     "data": {
      "text/html": [
       "<div>\n",
       "<style scoped>\n",
       "    .dataframe tbody tr th:only-of-type {\n",
       "        vertical-align: middle;\n",
       "    }\n",
       "\n",
       "    .dataframe tbody tr th {\n",
       "        vertical-align: top;\n",
       "    }\n",
       "\n",
       "    .dataframe thead th {\n",
       "        text-align: right;\n",
       "    }\n",
       "</style>\n",
       "<table border=\"1\" class=\"dataframe\">\n",
       "  <thead>\n",
       "    <tr style=\"text-align: right;\">\n",
       "      <th></th>\n",
       "      <th>case_id</th>\n",
       "      <th>case</th>\n",
       "      <th>TF</th>\n",
       "      <th>TF_ids</th>\n",
       "      <th>p_share</th>\n",
       "      <th>all_p</th>\n",
       "      <th>p_score</th>\n",
       "      <th>go_share</th>\n",
       "      <th>all_go</th>\n",
       "      <th>go_score</th>\n",
       "      <th>transfac</th>\n",
       "      <th>chea</th>\n",
       "      <th>label</th>\n",
       "    </tr>\n",
       "  </thead>\n",
       "  <tbody>\n",
       "    <tr>\n",
       "      <th>0</th>\n",
       "      <td>5</td>\n",
       "      <td>RARA</td>\n",
       "      <td>AHR</td>\n",
       "      <td>196</td>\n",
       "      <td>0.750000</td>\n",
       "      <td>4</td>\n",
       "      <td>27.747265</td>\n",
       "      <td>0.70</td>\n",
       "      <td>20</td>\n",
       "      <td>1869.297677</td>\n",
       "      <td>1.504682</td>\n",
       "      <td>1.940423</td>\n",
       "      <td>0</td>\n",
       "    </tr>\n",
       "    <tr>\n",
       "      <th>1</th>\n",
       "      <td>7</td>\n",
       "      <td>MYB</td>\n",
       "      <td>AHR</td>\n",
       "      <td>196</td>\n",
       "      <td>0.500000</td>\n",
       "      <td>4</td>\n",
       "      <td>14.880473</td>\n",
       "      <td>0.70</td>\n",
       "      <td>20</td>\n",
       "      <td>2213.014341</td>\n",
       "      <td>1.437621</td>\n",
       "      <td>1.711692</td>\n",
       "      <td>0</td>\n",
       "    </tr>\n",
       "    <tr>\n",
       "      <th>2</th>\n",
       "      <td>9</td>\n",
       "      <td>ZNF207</td>\n",
       "      <td>AHR</td>\n",
       "      <td>196</td>\n",
       "      <td>0.500000</td>\n",
       "      <td>4</td>\n",
       "      <td>24.537224</td>\n",
       "      <td>0.80</td>\n",
       "      <td>20</td>\n",
       "      <td>2745.141881</td>\n",
       "      <td>1.133541</td>\n",
       "      <td>2.014741</td>\n",
       "      <td>1</td>\n",
       "    </tr>\n",
       "    <tr>\n",
       "      <th>3</th>\n",
       "      <td>10</td>\n",
       "      <td>SOX2</td>\n",
       "      <td>AHR</td>\n",
       "      <td>196</td>\n",
       "      <td>0.750000</td>\n",
       "      <td>4</td>\n",
       "      <td>10.472983</td>\n",
       "      <td>0.65</td>\n",
       "      <td>20</td>\n",
       "      <td>1964.534767</td>\n",
       "      <td>1.204729</td>\n",
       "      <td>1.214568</td>\n",
       "      <td>0</td>\n",
       "    </tr>\n",
       "    <tr>\n",
       "      <th>4</th>\n",
       "      <td>16</td>\n",
       "      <td>NR2C2</td>\n",
       "      <td>AHR</td>\n",
       "      <td>196</td>\n",
       "      <td>0.500000</td>\n",
       "      <td>4</td>\n",
       "      <td>13.686829</td>\n",
       "      <td>0.70</td>\n",
       "      <td>20</td>\n",
       "      <td>1679.343282</td>\n",
       "      <td>1.295013</td>\n",
       "      <td>1.478326</td>\n",
       "      <td>0</td>\n",
       "    </tr>\n",
       "    <tr>\n",
       "      <th>...</th>\n",
       "      <td>...</td>\n",
       "      <td>...</td>\n",
       "      <td>...</td>\n",
       "      <td>...</td>\n",
       "      <td>...</td>\n",
       "      <td>...</td>\n",
       "      <td>...</td>\n",
       "      <td>...</td>\n",
       "      <td>...</td>\n",
       "      <td>...</td>\n",
       "      <td>...</td>\n",
       "      <td>...</td>\n",
       "      <td>...</td>\n",
       "    </tr>\n",
       "    <tr>\n",
       "      <th>74862</th>\n",
       "      <td>941</td>\n",
       "      <td>ZNF581</td>\n",
       "      <td>LMO2</td>\n",
       "      <td>4005</td>\n",
       "      <td>0.666667</td>\n",
       "      <td>6</td>\n",
       "      <td>67.823599</td>\n",
       "      <td>1.00</td>\n",
       "      <td>5</td>\n",
       "      <td>1054.589687</td>\n",
       "      <td>0.872961</td>\n",
       "      <td>1.269511</td>\n",
       "      <td>0</td>\n",
       "    </tr>\n",
       "    <tr>\n",
       "      <th>74863</th>\n",
       "      <td>942</td>\n",
       "      <td>ZNF589</td>\n",
       "      <td>LMO2</td>\n",
       "      <td>4005</td>\n",
       "      <td>0.500000</td>\n",
       "      <td>6</td>\n",
       "      <td>92.226052</td>\n",
       "      <td>1.00</td>\n",
       "      <td>5</td>\n",
       "      <td>836.125366</td>\n",
       "      <td>0.682863</td>\n",
       "      <td>1.159455</td>\n",
       "      <td>0</td>\n",
       "    </tr>\n",
       "    <tr>\n",
       "      <th>74864</th>\n",
       "      <td>943</td>\n",
       "      <td>ZNF589</td>\n",
       "      <td>LMO2</td>\n",
       "      <td>4005</td>\n",
       "      <td>0.500000</td>\n",
       "      <td>6</td>\n",
       "      <td>13.289309</td>\n",
       "      <td>1.00</td>\n",
       "      <td>5</td>\n",
       "      <td>915.584467</td>\n",
       "      <td>0.731407</td>\n",
       "      <td>1.175319</td>\n",
       "      <td>0</td>\n",
       "    </tr>\n",
       "    <tr>\n",
       "      <th>74865</th>\n",
       "      <td>944</td>\n",
       "      <td>ZNF589</td>\n",
       "      <td>LMO2</td>\n",
       "      <td>4005</td>\n",
       "      <td>0.666667</td>\n",
       "      <td>6</td>\n",
       "      <td>98.585271</td>\n",
       "      <td>1.00</td>\n",
       "      <td>5</td>\n",
       "      <td>1158.592327</td>\n",
       "      <td>0.698312</td>\n",
       "      <td>1.450451</td>\n",
       "      <td>0</td>\n",
       "    </tr>\n",
       "    <tr>\n",
       "      <th>74866</th>\n",
       "      <td>945</td>\n",
       "      <td>ZNF589</td>\n",
       "      <td>LMO2</td>\n",
       "      <td>4005</td>\n",
       "      <td>0.333333</td>\n",
       "      <td>6</td>\n",
       "      <td>45.393525</td>\n",
       "      <td>0.80</td>\n",
       "      <td>5</td>\n",
       "      <td>857.016437</td>\n",
       "      <td>1.333141</td>\n",
       "      <td>1.315992</td>\n",
       "      <td>0</td>\n",
       "    </tr>\n",
       "  </tbody>\n",
       "</table>\n",
       "<p>67331 rows × 13 columns</p>\n",
       "</div>"
      ],
      "text/plain": [
       "      case_id    case    TF TF_ids   p_share all_p    p_score  go_share  \\\n",
       "0           5    RARA   AHR    196  0.750000     4  27.747265      0.70   \n",
       "1           7     MYB   AHR    196  0.500000     4  14.880473      0.70   \n",
       "2           9  ZNF207   AHR    196  0.500000     4  24.537224      0.80   \n",
       "3          10    SOX2   AHR    196  0.750000     4  10.472983      0.65   \n",
       "4          16   NR2C2   AHR    196  0.500000     4  13.686829      0.70   \n",
       "...       ...     ...   ...    ...       ...   ...        ...       ...   \n",
       "74862     941  ZNF581  LMO2   4005  0.666667     6  67.823599      1.00   \n",
       "74863     942  ZNF589  LMO2   4005  0.500000     6  92.226052      1.00   \n",
       "74864     943  ZNF589  LMO2   4005  0.500000     6  13.289309      1.00   \n",
       "74865     944  ZNF589  LMO2   4005  0.666667     6  98.585271      1.00   \n",
       "74866     945  ZNF589  LMO2   4005  0.333333     6  45.393525      0.80   \n",
       "\n",
       "      all_go     go_score  transfac      chea  label  \n",
       "0         20  1869.297677  1.504682  1.940423      0  \n",
       "1         20  2213.014341  1.437621  1.711692      0  \n",
       "2         20  2745.141881  1.133541  2.014741      1  \n",
       "3         20  1964.534767  1.204729  1.214568      0  \n",
       "4         20  1679.343282  1.295013  1.478326      0  \n",
       "...      ...          ...       ...       ...    ...  \n",
       "74862      5  1054.589687  0.872961  1.269511      0  \n",
       "74863      5   836.125366  0.682863  1.159455      0  \n",
       "74864      5   915.584467  0.731407  1.175319      0  \n",
       "74865      5  1158.592327  0.698312  1.450451      0  \n",
       "74866      5   857.016437  1.333141  1.315992      0  \n",
       "\n",
       "[67331 rows x 13 columns]"
      ]
     },
     "execution_count": 14,
     "metadata": {},
     "output_type": "execute_result"
    }
   ],
   "source": [
    "full_data_df"
   ]
  },
  {
   "cell_type": "markdown",
   "metadata": {
    "colab_type": "text",
    "id": "1yoeMBHLidxW"
   },
   "source": [
    "\n",
    "Logistic regression showed the best results among several standalone ML techniques such as SVM, Random forest (RF), Gradient Boosting (and some of their combinations). Still, it produced even better predictions when it was used in combination with RF. Probabilities from RF predictions were used as an additional feature."
   ]
  },
  {
   "cell_type": "code",
   "execution_count": 15,
   "metadata": {
    "colab": {},
    "colab_type": "code",
    "id": "-B7aJfr1idxW",
    "outputId": "86823991-b453-4f7b-9fa1-dbe0d65d3a1d"
   },
   "outputs": [
    {
     "name": "stdout",
     "output_type": "stream",
     "text": [
      "Finished\n"
     ]
    }
   ],
   "source": [
    "# Split data 1:9 and predict each part with RF model\n",
    "rf_model = RandomForestClassifier(n_estimators=3000, class_weight=\"balanced\", min_samples_leaf=1, \n",
    "                                       max_features=3, n_jobs=-1, random_state=1)\n",
    "n_chunks = 10\n",
    "full_data_df_shuffled = full_data_df.sample(frac=1, random_state=1).copy(deep=True)\n",
    "full_data_df_shuffled['rf_score'] = 0.0\n",
    "chunks = np.array_split(np.array(full_data_df_shuffled.index), n_chunks)\n",
    "for i in range(n_chunks):\n",
    "    clear_output()\n",
    "    print(i)\n",
    "    other_index = [h for h in full_data_df_shuffled.index if h not in chunks[i]]\n",
    "    # Fit 9/10 of the data    \n",
    "    rf_model.fit(full_data_df_shuffled.loc[other_index][['TF_ids',\n",
    "                            'p_share','all_p',\n",
    "                            'p_score', \n",
    "                            'go_share','all_go', \n",
    "                            'go_score',\n",
    "                            'transfac','chea'\n",
    "                            ]].values, \n",
    "                 full_data_df_shuffled.loc[other_index]['label'].values)\n",
    "    # Predict 1/10 and store probabilities in'rf_score' column  \n",
    "    full_data_df_shuffled.loc[chunks[i], 'rf_score'] = rf_model.predict_proba(\n",
    "                 full_data_df_shuffled.loc[chunks[i]][['TF_ids',\n",
    "                            'p_share','all_p',\n",
    "                            'p_score', \n",
    "                            'go_share','all_go', \n",
    "                            'go_score',\n",
    "                            'transfac','chea'\n",
    "                             ]].values)[:,[1]]\n",
    "full_data_df = full_data_df_shuffled.copy(deep=True)\n",
    "clear_output()\n",
    "print('Finished')"
   ]
  },
  {
   "cell_type": "code",
   "execution_count": 16,
   "metadata": {},
   "outputs": [
    {
     "data": {
      "text/plain": [
       "0.835386606898683"
      ]
     },
     "execution_count": 16,
     "metadata": {},
     "output_type": "execute_result"
    }
   ],
   "source": [
    "fpr_rf, tpr_rf, _ = roc_curve(full_data_df['label'].values,\n",
    "                              full_data_df['rf_score'].values)\n",
    "roc_auc = auc(fpr_rf, tpr_rf)\n",
    "roc_auc"
   ]
  },
  {
   "cell_type": "code",
   "execution_count": 17,
   "metadata": {
    "colab": {},
    "colab_type": "code",
    "id": "vsn0KXKDidxa",
    "outputId": "a672ef9c-b07a-479f-c267-f0f69bba80ec"
   },
   "outputs": [
    {
     "name": "stdout",
     "output_type": "stream",
     "text": [
      "Finished\n"
     ]
    }
   ],
   "source": [
    "# Use bootstrapping to average the logistic regression predictions\n",
    "total_fpr= []\n",
    "total_tpr = []\n",
    "total_auc = []\n",
    "avg_precision = []\n",
    "total_precision = []\n",
    "total_recall= []\n",
    "n_samples = 100\n",
    "log_model = LogisticRegression(penalty='l2', \n",
    "             dual=False, \n",
    "             tol=0.0001, \n",
    "             C=1, \n",
    "             fit_intercept=True, \n",
    "             intercept_scaling=1, \n",
    "             class_weight=\"balanced\",\n",
    "             random_state=1, \n",
    "             solver='lbfgs',\n",
    "             max_iter=1000, n_jobs = 2)\n",
    "X = full_data_df[['p_share',\n",
    "                  'p_score', \n",
    "                  'go_share',\n",
    "                  'go_score',\n",
    "                  'rf_score'\n",
    "                 ]].values\n",
    "for i in range(n_samples):\n",
    "    clear_output()\n",
    "    print(i)\n",
    "    X_train, X_test, y_train, y_test = train_test_split(X, full_data_df['label'].values,\n",
    "                                                    test_size=0.1, shuffle=True)\n",
    "    log_model = log_model.fit(X_train, y_train)\n",
    "    y_pred = log_model.predict_proba(X_test)[:,[1]]\n",
    "    \n",
    "    # Downsample negative class\n",
    "    labels = y_test[y_test>0]\n",
    "    probs = y_pred[y_test>0]\n",
    "    inds = np.array([i for i in range(len(y_test))])\n",
    "    neg_inds = np.random.choice(inds[y_test==0], size=len(labels), replace=False)\n",
    "    labels = np.concatenate([labels, y_test[neg_inds]], axis=0)\n",
    "    probs = np.concatenate([probs, y_pred[neg_inds]], axis=0)\n",
    "    \n",
    "    # Save values\n",
    "    precision, recall, _ = metrics.precision_recall_curve(labels, probs, pos_label=1)\n",
    "    total_precision.append(precision)\n",
    "    total_recall.append(recall)\n",
    "    avg_precision.append(metrics.average_precision_score(labels, probs, pos_label=1))\n",
    "    fpr, tpr, _ = metrics.roc_curve(labels, probs, pos_label=1)\n",
    "    total_fpr.append(fpr)\n",
    "    total_tpr.append(tpr)\n",
    "    total_auc.append(metrics.auc(fpr, tpr)) \n",
    "total_fpr = np.hstack(total_fpr)\n",
    "total_tpr = np.hstack(total_tpr)\n",
    "total_precision = np.hstack(total_precision)\n",
    "total_recall = np.hstack(total_recall)\n",
    "clear_output()\n",
    "print('Finished')"
   ]
  },
  {
   "cell_type": "code",
   "execution_count": 18,
   "metadata": {
    "colab": {},
    "colab_type": "code",
    "id": "oUbagFCLidxd",
    "outputId": "a0dc23c0-65ba-48ab-f528-404fa5666185"
   },
   "outputs": [
    {
     "data": {
      "text/plain": [
       "0.8143177596146411"
      ]
     },
     "execution_count": 18,
     "metadata": {},
     "output_type": "execute_result"
    }
   ],
   "source": [
    "# Average ROC AUC\n",
    "np.mean(total_auc)"
   ]
  },
  {
   "cell_type": "code",
   "execution_count": 19,
   "metadata": {
    "colab": {},
    "colab_type": "code",
    "id": "OuxHx33_idxf",
    "outputId": "5387074c-73c1-4d85-ef61-e73438e663d9"
   },
   "outputs": [
    {
     "data": {
      "text/plain": [
       "0.8341358195059798"
      ]
     },
     "execution_count": 19,
     "metadata": {},
     "output_type": "execute_result"
    }
   ],
   "source": [
    "# Average Precision-Recall AUC\n",
    "np.mean(avg_precision)"
   ]
  },
  {
   "cell_type": "code",
   "execution_count": 20,
   "metadata": {
    "colab": {},
    "colab_type": "code",
    "id": "yQljc-Pmidxh"
   },
   "outputs": [],
   "source": [
    "# bin TPR values to smooth ROC curve\n",
    "n_points = 100\n",
    "tpr_order =  np.argsort(total_tpr)\n",
    "total_tpr = total_tpr[tpr_order]\n",
    "total_fpr = total_fpr[tpr_order]\n",
    "inter_fpr = np.linspace(0, 1, n_points)\n",
    "inter_tpr = np.zeros(n_points)\n",
    "sd_tpr = np.zeros(n_points)\n",
    "for i in range(n_points-1):\n",
    "    inter_tpr[i+1] = np.mean(total_tpr[np.logical_and(total_fpr >= inter_fpr[i], total_fpr < inter_fpr[i+1])])\n",
    "    sd_tpr[i+1] = np.std(total_tpr[np.logical_and(total_fpr >= inter_fpr[i], total_fpr < inter_fpr[i+1])]) "
   ]
  },
  {
   "cell_type": "code",
   "execution_count": 21,
   "metadata": {
    "colab": {},
    "colab_type": "code",
    "id": "6ckLYqXtidxm",
    "outputId": "fe304081-a35d-4d28-fc47-676d342c5578"
   },
   "outputs": [
    {
     "data": {
      "image/png": "[encoded data removed]",
      "text/plain": [
       "<Figure size 360x360 with 1 Axes>"
      ]
     },
     "metadata": {
      "needs_background": "light"
     },
     "output_type": "display_data"
    }
   ],
   "source": [
    "plt.figure(figsize=(5,5))\n",
    "sns.lineplot(inter_fpr, inter_tpr,  ci=None, \n",
    "             label='ROC curve (Average AUC = %0.3f)' % np.mean(total_auc), \n",
    "             estimator='mean')\n",
    "plt.fill_between(inter_fpr, inter_tpr-sd_tpr, inter_tpr+sd_tpr, alpha = 0.2)\n",
    "plt.plot([0, 1], [0, 1], color='navy', lw=2, linestyle=':',alpha = 0.8)\n",
    "plt.xlim([0.0, 1.0])\n",
    "plt.ylim([0.0, 1.0])\n",
    "plt.yticks([0.0, 0.25, 0.5, 0.75, 1.0])\n",
    "plt.xticks([0.0, 0.25, 0.5, 0.75, 1.0])\n",
    "plt.xlabel('False Positive Rate', fontsize=12)\n",
    "plt.ylabel('True Positive Rate', fontsize=12)\n",
    "plt.legend(loc=\"lower right\", fontsize=11)\n",
    "plt.tight_layout()\n",
    "#plt.savefig('images/bootstrap_ROC.png',dpi=300, quality=100)"
   ]
  },
  {
   "cell_type": "code",
   "execution_count": 22,
   "metadata": {
    "colab": {},
    "colab_type": "code",
    "id": "fNyw2j4Bidxp"
   },
   "outputs": [],
   "source": [
    "# bin Precision values to smooth PR curve\n",
    "n_points = 100\n",
    "precision_order =  np.flip(np.argsort(total_precision))\n",
    "total_precision = total_precision[precision_order]\n",
    "total_recall = total_recall[precision_order]\n",
    "inter_recall = np.linspace(0, 1, n_points)\n",
    "inter_precision = np.zeros(n_points)\n",
    "sd_precision = np.zeros(n_points)\n",
    "for i in range(n_points-1):\n",
    "    inter_precision[i] = np.nanmean(total_precision[np.logical_and(total_recall > \\\n",
    "                                inter_recall[i], total_recall <= inter_recall[i+1])]) \n",
    "    sd_precision[i] = np.std(total_precision[np.logical_and(total_recall > \\\n",
    "                                inter_recall[i], total_recall <= inter_recall[i+1])])\n",
    "inter_precision[n_points-1]=np.nan"
   ]
  },
  {
   "cell_type": "code",
   "execution_count": 23,
   "metadata": {
    "colab": {},
    "colab_type": "code",
    "id": "EGlAwJx_idxs",
    "outputId": "51672818-595f-4c84-c5fa-684e5abfebe5"
   },
   "outputs": [
    {
     "data": {
      "image/png": "[encoded data removed]",
      "text/plain": [
       "<Figure size 360x360 with 1 Axes>"
      ]
     },
     "metadata": {
      "needs_background": "light"
     },
     "output_type": "display_data"
    }
   ],
   "source": [
    "plt.figure(figsize=(5,5))\n",
    "sns.lineplot(inter_recall, inter_precision, ci=None, \n",
    "              label='PR curve (Average AUC = %0.3f)' % np.mean(avg_precision),\n",
    "             estimator=None)\n",
    "plt.fill_between(inter_recall, inter_precision-sd_precision, \n",
    "                 inter_precision+sd_precision, alpha = 0.2)\n",
    "plt.xlim([0.0, 1.0])\n",
    "plt.ylim([0.5, 1.0])\n",
    "plt.yticks([0.5, 0.75, 1.0])\n",
    "plt.xticks([0.0, 0.25, 0.5, 0.75, 1.0])\n",
    "plt.xlabel('Recall', fontsize=12)\n",
    "plt.ylabel('Precision', fontsize=12)\n",
    "plt.legend(loc=\"lower right\", fontsize=11)\n",
    "plt.tight_layout()\n",
    "#plt.savefig('images/bootstrap_PR.png',dpi=300, quality=100)"
   ]
  },
  {
   "cell_type": "markdown",
   "metadata": {
    "colab_type": "text",
    "id": "3eljlEnYidxv"
   },
   "source": [
    "Finally, models based on the full data set were created and saved for further use."
   ]
  },
  {
   "cell_type": "code",
   "execution_count": 24,
   "metadata": {
    "colab": {},
    "colab_type": "code",
    "id": "wd0Qo2kqidxw",
    "outputId": "b8f46955-99f0-40d1-85bc-b155eb535288"
   },
   "outputs": [
    {
     "data": {
      "text/plain": [
       "['data/rf_mod.joblib']"
      ]
     },
     "execution_count": 24,
     "metadata": {},
     "output_type": "execute_result"
    }
   ],
   "source": [
    "rf_model.fit(full_data_df[['TF_ids',\n",
    "                                'p_share',\n",
    "                                'all_p',\n",
    "                                'p_score',\n",
    "                                'go_share',\n",
    "                                'all_go',\n",
    "                                'go_score', \n",
    "                                 'transfac', 'chea'\n",
    "                                ]].values,\n",
    "                               full_data_df['label'].values)\n",
    "dump(rf_model, 'data/rf_mod.joblib')"
   ]
  },
  {
   "cell_type": "code",
   "execution_count": 25,
   "metadata": {},
   "outputs": [
    {
     "data": {
      "text/plain": [
       "['data/log_mod.joblib']"
      ]
     },
     "execution_count": 25,
     "metadata": {},
     "output_type": "execute_result"
    }
   ],
   "source": [
    "log_model = log_model.fit(full_data_df[['p_share',\n",
    "                                        'p_score', \n",
    "                                        'go_share',\n",
    "                                        'go_score',\n",
    "                                        'rf_score'\n",
    "                                       ]].values,\n",
    "                               full_data_df['label'].values)\n",
    "dump(log_model, 'data/log_mod.joblib')"
   ]
  }
 ],
 "metadata": {
  "colab": {
   "name": "model_creation.ipynb",
   "provenance": []
  },
  "kernelspec": {
   "display_name": "Python 3",
   "language": "python",
   "name": "python3"
  },
  "language_info": {
   "codemirror_mode": {
    "name": "ipython",
    "version": 3
   },
   "file_extension": ".py",
   "mimetype": "text/x-python",
   "name": "python",
   "nbconvert_exporter": "python",
   "pygments_lexer": "ipython3",
   "version": "3.7.6"
  }
 },
 "nbformat": 4,
 "nbformat_minor": 1
}
