{
 "cells": [
  {
   "cell_type": "code",
   "execution_count": 1,
   "metadata": {},
   "outputs": [
    {
     "name": "stderr",
     "output_type": "stream",
     "text": [
      "Warning message:\n",
      "\"package 'dplyr' was built under R version 3.6.3\"\n",
      "Attaching package: 'dplyr'\n",
      "\n",
      "The following objects are masked from 'package:stats':\n",
      "\n",
      "    filter, lag\n",
      "\n",
      "The following objects are masked from 'package:base':\n",
      "\n",
      "    intersect, setdiff, setequal, union\n",
      "\n",
      "Warning message:\n",
      "\"package 'arrow' was built under R version 3.6.3\"\n",
      "Attaching package: 'arrow'\n",
      "\n",
      "The following object is masked from 'package:utils':\n",
      "\n",
      "    timestamp\n",
      "\n",
      "Warning message:\n",
      "\"package 'glmnet' was built under R version 3.6.2\"Loading required package: Matrix\n",
      "Warning message:\n",
      "\"package 'Matrix' was built under R version 3.6.3\"Loaded glmnet 3.0-2\n",
      "\n",
      "Warning message:\n",
      "\"package 'caret' was built under R version 3.6.3\"Loading required package: lattice\n",
      "Warning message:\n",
      "\"package 'lattice' was built under R version 3.6.3\"Loading required package: ggplot2\n",
      "Warning message:\n",
      "\"package 'ggplot2' was built under R version 3.6.3\"Warning message:\n",
      "\"package 'precrec' was built under R version 3.6.2\""
     ]
    }
   ],
   "source": [
    "library(dplyr)\n",
    "library(arrow)\n",
    "library(glmnet)\n",
    "library(caret)\n",
    "library(dplyr)\n",
    "library(precrec)"
   ]
  },
  {
   "cell_type": "code",
   "execution_count": 2,
   "metadata": {},
   "outputs": [],
   "source": [
    "set.seed(1001)\n",
    "\n",
    "# Load train and validation data set prepared ealier for Python model\n",
    "cases_df <- read_parquet('data/training_data.parquet')\n",
    "cases_df <- select(cases_df, -matches(\"__index_level_0__|case|rf_score\"))\n",
    "cases_df$label <- as.factor(cases_df$label)\n",
    "cases_df$all_p <- as.double(cases_df$all_p)\n",
    "cases_df$all_go <- as.double(cases_df$all_go)\n",
    "\n",
    "validation_df <- read_parquet('data/test_data.parquet')\n",
    "validation_df <- select(validation_df, -matches(\"__index_level_0__|rf_score\"))\n",
    "validation_df$label <- as.factor(validation_df$label)\n",
    "validation_df$all_p <- as.double(validation_df$all_p)\n",
    "validation_df$all_go <- as.double(validation_df$all_go)"
   ]
  },
  {
   "cell_type": "code",
   "execution_count": 3,
   "metadata": {
    "scrolled": true
   },
   "outputs": [
    {
     "name": "stdout",
     "output_type": "stream",
     "text": [
      "tibble [67,331 x 11] (S3: tbl_df/tbl/data.frame)\n",
      " $ TF      : chr [1:67331] \"SOX2\" \"GLI1\" \"HESX1\" \"HESX1\" ...\n",
      " $ TF_ids  :integer64 [1:67331] 6657 2735 8820 8820 1045 1960 1051 5970 ... \n",
      " $ p_share : num [1:67331] 0.75 0.444 0.25 0.25 0.5 ...\n",
      " $ all_p   : num [1:67331] 4 9 4 4 4 6 6 138 4 8 ...\n",
      " $ p_score : num [1:67331] 0.05498 1.1923 0.01759 0.00281 0.01246 ...\n",
      " $ go_share: num [1:67331] 0.733 0.643 0.833 0.5 0.706 ...\n",
      " $ all_go  : num [1:67331] 30 28 6 6 17 14 39 73 21 41 ...\n",
      " $ go_score: num [1:67331] 2.875 6.6 0.658 1.311 2.133 ...\n",
      " $ transfac: num [1:67331] 0.914 1.455 0.836 0.866 0.882 ...\n",
      " $ chea    : num [1:67331] 1.51 1.43 1.25 1.48 1.36 ...\n",
      " $ label   : Factor w/ 2 levels \"0\",\"1\": 1 1 1 1 1 1 1 1 1 1 ...\n"
     ]
    }
   ],
   "source": [
    "str(cases_df)"
   ]
  },
  {
   "cell_type": "code",
   "execution_count": 4,
   "metadata": {},
   "outputs": [],
   "source": [
    "# Calculate weights for each observation in train data\n",
    "neg_w <- 1 - table(cases_df$label)[[1]]/nrow(cases_df)\n",
    "pos_w <- 1 - table(cases_df$label)[[2]]/nrow(cases_df)\n",
    "wgts<- sapply(as.integer(cases_df$label), function(f) ifelse(f==1, neg_w, pos_w))"
   ]
  },
  {
   "cell_type": "code",
   "execution_count": 5,
   "metadata": {},
   "outputs": [
    {
     "data": {
      "text/html": [
       "<table>\n",
       "<caption>A data.frame: 1 × 2</caption>\n",
       "<thead>\n",
       "\t<tr><th></th><th scope=col>alpha</th><th scope=col>lambda</th></tr>\n",
       "\t<tr><th></th><th scope=col>&lt;dbl&gt;</th><th scope=col>&lt;dbl&gt;</th></tr>\n",
       "</thead>\n",
       "<tbody>\n",
       "\t<tr><th scope=row>20</th><td>0</td><td>1</td></tr>\n",
       "</tbody>\n",
       "</table>\n"
      ],
      "text/latex": [
       "A data.frame: 1 × 2\n",
       "\\begin{tabular}{r|ll}\n",
       "  & alpha & lambda\\\\\n",
       "  & <dbl> & <dbl>\\\\\n",
       "\\hline\n",
       "\t20 & 0 & 1\\\\\n",
       "\\end{tabular}\n"
      ],
      "text/markdown": [
       "\n",
       "A data.frame: 1 × 2\n",
       "\n",
       "| <!--/--> | alpha &lt;dbl&gt; | lambda &lt;dbl&gt; |\n",
       "|---|---|---|\n",
       "| 20 | 0 | 1 |\n",
       "\n"
      ],
      "text/plain": [
       "   alpha lambda\n",
       "20 0     1     "
      ]
     },
     "metadata": {},
     "output_type": "display_data"
    }
   ],
   "source": [
    "# Grid search for logistic regression model\n",
    "# 'alpha = 0' is used because ridge regularisation worked best in Python version\n",
    "glmnet_grid <- expand.grid(alpha = 0, \n",
    "                           lambda = seq(0, 1, length = 20))\n",
    "\n",
    "glmnet_ctrl <- trainControl(method = \"cv\", number = 5)\n",
    "\n",
    "glmnet_fit <- train(label ~ p_share + all_p + p_score +\n",
    "                                go_share + all_go + go_score + \n",
    "                                transfac + chea,\n",
    "                    data = cases_df, \n",
    "                    method = \"glmnet\", family = 'binomial',\n",
    "                    standardize = TRUE, \n",
    "                    weights = wgts,\n",
    "                    metric = \"Accuracy\",\n",
    "                    maximize = TRUE,\n",
    "                    tuneGrid = glmnet_grid,\n",
    "                    trControl = glmnet_ctrl)\n",
    "\n",
    "# Get best lambda\n",
    "glmnet_fit$bestTune"
   ]
  },
  {
   "cell_type": "code",
   "execution_count": 6,
   "metadata": {},
   "outputs": [],
   "source": [
    "# Train final LR model\n",
    "lr_model <- glmnet(x = as.matrix(cases_df[c('p_share',\n",
    "                                            'p_score',\n",
    "                                            'go_share',\n",
    "                                            'go_score')\n",
    "                                         ]), \n",
    "                   y = cases_df$label,\n",
    "                   family = 'binomial',\n",
    "                   alpha = 0,\n",
    "                   nlambda = 1,\n",
    "                   lambda = 1,\n",
    "                   standardize = TRUE,\n",
    "                   weights = wgts\n",
    "                  )"
   ]
  },
  {
   "cell_type": "code",
   "execution_count": 7,
   "metadata": {},
   "outputs": [],
   "source": [
    "# Take 1000 samples from validation data set to average ROC and PR curves\n",
    "n = 1000\n",
    "frac = 0.8\n",
    "total_pred <- data.frame(label = c(), prob = c(), num = c())\n",
    "for (i in 1:n){\n",
    "    sample_rows <- sample(1:nrow(validation_df), floor(frac*nrow(validation_df)), replace = FALSE)\n",
    "    lr_pred <- predict(lr_model,\n",
    "                       as.matrix(validation_df[sample_rows,\n",
    "                                               c('p_share',\n",
    "                                                 'p_score',\n",
    "                                                 'go_share',\n",
    "                                                 'go_score')\n",
    "                                                ]), \n",
    "                       type=\"response\")\n",
    "    total_pred <- rbind(total_pred, \n",
    "                        data.frame(label = validation_df[sample_rows, 'label'],\n",
    "                                   prob = as.vector(lr_pred),\n",
    "                                   num = i))\n",
    "}"
   ]
  },
  {
   "cell_type": "code",
   "execution_count": 8,
   "metadata": {},
   "outputs": [
    {
     "data": {
      "text/html": [
       "'ROC AUC = 0.869014095736348'"
      ],
      "text/latex": [
       "'ROC AUC = 0.869014095736348'"
      ],
      "text/markdown": [
       "'ROC AUC = 0.869014095736348'"
      ],
      "text/plain": [
       "[1] \"ROC AUC = 0.869014095736348\""
      ]
     },
     "metadata": {},
     "output_type": "display_data"
    },
    {
     "data": {
      "text/html": [
       "'PR AUC = 0.860639917375072'"
      ],
      "text/latex": [
       "'PR AUC = 0.860639917375072'"
      ],
      "text/markdown": [
       "'PR AUC = 0.860639917375072'"
      ],
      "text/plain": [
       "[1] \"PR AUC = 0.860639917375072\""
      ]
     },
     "metadata": {},
     "output_type": "display_data"
    },
    {
     "data": {
      "image/png": "[encoded data removed]",
      "text/plain": [
       "plot without title"
      ]
     },
     "metadata": {},
     "output_type": "display_data"
    }
   ],
   "source": [
    "# Downsample predictions to get PR curve which can be compared to other models/TF libraries\n",
    "downsampled_pred <- downSample(total_pred, total_pred$label)\n",
    "\n",
    "# Prepare data for plotting\n",
    "perf_data <- mmdata(split(downsampled_pred[[\"prob\"]], downsampled_pred[[\"num\"]]),\n",
    "                    split(downsampled_pred[[\"label\"]], downsampled_pred[[\"num\"]]),\n",
    "                    dsids = (c(1:n)))\n",
    "\n",
    "# Calculate curves for multiple test datasets and keep all the curves\n",
    "perf_curves <- evalmod(perf_data, raw_curves = TRUE)\n",
    "\n",
    "# Show curves with the 95% confidence bounds\n",
    "paste0('ROC AUC = ', as.data.frame(evalmod(scores = total_pred$prob, labels = total_pred$label, mode = 'aucroc'))[1,3])\n",
    "paste0('PR AUC = ', auc(evalmod(scores = downsampled_pred$prob, label = as.integer(downsampled_pred$label)))[2,4])\n",
    "options(repr.plot.width = 5, repr.plot.height = 3)\n",
    "autoplot(perf_curves, show_cb = TRUE)"
   ]
  },
  {
   "cell_type": "code",
   "execution_count": 9,
   "metadata": {},
   "outputs": [],
   "source": [
    "# Save LR model\n",
    "save(lr_model, file = 'data/log_mod.RData')\n",
    "\n",
    "pathways_hsa <- read_parquet('data/pathways_hsa_full_hg38.parquet')\n",
    "pathways_hsa <- pathways_hsa[,c('gene_id','pathway')]\n",
    "pathways_hsa$gene_id <- as.integer(pathways_hsa$gene_id)\n",
    "pathways_hsa <- distinct(pathways_hsa)\n",
    "\n",
    "go_hsa <- read_parquet('data/go_terms_hsa_processes.parquet')\n",
    "go_hsa$gene_id <- as.integer(go_hsa$gene_id)\n",
    "go_hsa <- distinct(go_hsa)\n",
    "\n",
    "tf_names <- read_parquet('data/tf_names_hsa.parquet')\n",
    "tf_names$index <- as.integer(tf_names[['__index_level_0__']])\n",
    "\n",
    "save(pathways_hsa, go_hsa, tf_names, lr_model, file = 'data/sysdata.rda')"
   ]
  }
 ],
 "metadata": {
  "kernelspec": {
   "display_name": "R",
   "language": "R",
   "name": "ir"
  },
  "language_info": {
   "codemirror_mode": "r",
   "file_extension": ".r",
   "mimetype": "text/x-r-source",
   "name": "R",
   "pygments_lexer": "r",
   "version": "3.6.1"
  }
 },
 "nbformat": 4,
 "nbformat_minor": 4
}
